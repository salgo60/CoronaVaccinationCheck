{
 "cells": [
  {
   "cell_type": "markdown",
   "metadata": {},
   "source": [
    "# What is reported about covid 19 vaccinations\n",
    "\n",
    "* [Sweden](#Sweden)\n",
    "* [Turkey](#Turkey)\n",
    "* [Israel](#Israel)\n",
    "* [All](#All)\n",
    "\n",
    "\n",
    "\n",
    "### About\n",
    "* [this Notebook](https://github.com/salgo60/CoronaVaccinationCheck/blob/master/What%20is%20reported.ipynb) / [repository](https://github.com/salgo60/CoronaVaccinationCheck) \n",
    "\n",
    "* we read the data from [github.com/owid/covid-19-data...vaccinations/country_data](https://github.com/owid/covid-19-data/tree/master/public/data/vaccinations/country_data) created by [Our World in Data](https://ourworldindata.org/)\n",
    "  * see also [WHO Coronavirus Disease (COVID-19) Dashboard](https://covid19.who.int/)\n",
    "\n",
    "Interesting is that some countries like [Turkey now has real time reporting](https://covid19asi.saglik.gov.tr/) / [tweet](https://twitter.com/redouad/status/1349688916975230978?s=20)  \n",
    "* Sweden and death reporting see [svt.se in Swedish](https://www.svt.se/datajournalistik/en-koll-rapporterade-covid-dodsfall/) \n",
    "\n",
    "## Why is Sweden underperforming regarding reporting?\n",
    "\n",
    "* Swedish FHM try to explain why they underperform see [discussion in Swedish](https://community.dataportal.se/topic/77/tillg%C3%A4nglighetsdirektivet-och-publicerade-%C3%B6ppna-data/3?_=1617769671095) \n"
   ]
  },
  {
   "cell_type": "code",
   "execution_count": 1,
   "metadata": {},
   "outputs": [
    {
     "name": "stdout",
     "output_type": "stream",
     "text": [
      "Last run:  2021-05-17 13:42:08.389407\n"
     ]
    }
   ],
   "source": [
    "from datetime import datetime\n",
    "start_time  = datetime.now()\n",
    "print(\"Last run: \", start_time)"
   ]
  },
  {
   "cell_type": "code",
   "execution_count": null,
   "metadata": {},
   "outputs": [],
   "source": [
    "import pandas as pd\n",
    "pd.set_option('display.max_columns', None)\n",
    "pd.set_option('display.max_rows', None)\n",
    "pd.set_option('display.max_colwidth', None)\n",
    "\n",
    "GITHUB_directory = \"https://api.github.com/repos/owid/covid-19-data/contents/public/data/vaccinations/country_data\"  \n",
    "countries = pd.read_json(GITHUB_directory)  \n",
    "listcountries = []\n",
    "for index,row in countries.iterrows():\n",
    "#    print(index, row[\"name\"])\n",
    "    df = pd.read_csv(row[\"download_url\"])\n",
    "    listcountries.append(df)\n",
    "    \n",
    "allCountriesGitHub = pd.concat(listcountries, axis=0, ignore_index=True) \n",
    "allCountriesGitHub = allCountriesGitHub.sort_values(by=['date'],ascending=False)\n",
    "allCountriesGitHub.reset_index(drop=True, inplace=True)\n",
    "allCountriesGitHub = allCountriesGitHub[[\"location\",\"date\",\"vaccine\",\"total_vaccinations\",\"people_vaccinated\", \\\n",
    "                                         \"people_fully_vaccinated\",\"source_url\"]]\n",
    "allCountriesGitHub.index += 1 "
   ]
  },
  {
   "cell_type": "markdown",
   "metadata": {},
   "source": [
    "<a name=\"Sweden\"></a>"
   ]
  },
  {
   "cell_type": "markdown",
   "metadata": {},
   "source": [
    "## Sweden <a class=\"anchor\" name=\"Sweden\"></a>\n",
    "<a name=\"Sweden\"></a>\n",
    "* looks like no machinereadable data is available from FHM --> OWiD reads a swedish web page \n",
    "   * https://www.folkhalsomyndigheten.se/smittskydd-beredskap/utbrott/aktuella-utbrott/covid-19/vaccination-mot-covid-19/statistik/statistik-over-registrerade-vaccinationer-covid-19/"
   ]
  },
  {
   "cell_type": "code",
   "execution_count": null,
   "metadata": {
    "scrolled": true
   },
   "outputs": [],
   "source": [
    "Sweden = allCountriesGitHub[allCountriesGitHub[\"location\"] == \"Sweden\"]\n",
    "Sweden[:10]"
   ]
  },
  {
   "cell_type": "code",
   "execution_count": null,
   "metadata": {},
   "outputs": [],
   "source": [
    "Sweden.shape"
   ]
  },
  {
   "cell_type": "markdown",
   "metadata": {},
   "source": [
    "## Turkey <a class=\"anchor\" id=\"Turkey\"></a>\n",
    "Looks like Turkey data is fetched more times per day but just one datapoint is stored per day see [recent commits](https://github.com/owid/covid-19-data/commits/master/public/data/vaccinations/country_data/Turkey.csv) and how they 2020-01-15 [\"overwrite\" the last 2020-01-15 entry](https://github.com/owid/covid-19-data/commit/77190797443d239c19de1da9acca633541885e85#diff-eb9a3b52782ce32ebd98410b11c22142d8377bdb5a5466a5e7a14718822a5243)\n",
    "* [Realtime](https://covid19asi.saglik.gov.tr/)"
   ]
  },
  {
   "cell_type": "code",
   "execution_count": null,
   "metadata": {},
   "outputs": [],
   "source": [
    "Turkey = allCountriesGitHub[allCountriesGitHub[\"location\"] == \"Turkey\"]\n",
    "Turkey.shape"
   ]
  },
  {
   "cell_type": "code",
   "execution_count": null,
   "metadata": {},
   "outputs": [],
   "source": [
    "Turkey[:10]"
   ]
  },
  {
   "cell_type": "markdown",
   "metadata": {},
   "source": [
    "## Israel <a class=\"anchor\" id=\"Israel\"></a>"
   ]
  },
  {
   "cell_type": "code",
   "execution_count": null,
   "metadata": {},
   "outputs": [],
   "source": [
    "Israel = allCountriesGitHub[allCountriesGitHub[\"location\"] == \"Israel\"]\n",
    "Israel.shape"
   ]
  },
  {
   "cell_type": "code",
   "execution_count": null,
   "metadata": {},
   "outputs": [],
   "source": [
    "Israel[:10]"
   ]
  },
  {
   "cell_type": "markdown",
   "metadata": {},
   "source": [
    "## All countries\n",
    "number times reporting data"
   ]
  },
  {
   "cell_type": "code",
   "execution_count": null,
   "metadata": {},
   "outputs": [],
   "source": [
    "allCountriesGitHubCount = allCountriesGitHub[\"location\"].value_counts()\n",
    "allCountriesGitHubCount = allCountriesGitHubCount.reset_index()\n",
    "allCountriesGitHubCount.index += 1   \n",
    "# show number times reported top 100\n",
    "allCountriesGitHubCount[100:140]"
   ]
  },
  {
   "cell_type": "code",
   "execution_count": null,
   "metadata": {},
   "outputs": [],
   "source": [
    "#Latest reported\n",
    "allCountriesGitHub[:10]"
   ]
  },
  {
   "cell_type": "code",
   "execution_count": null,
   "metadata": {},
   "outputs": [],
   "source": [
    "allCountriesGitHub.shape"
   ]
  },
  {
   "cell_type": "code",
   "execution_count": null,
   "metadata": {},
   "outputs": [],
   "source": []
  },
  {
   "cell_type": "code",
   "execution_count": null,
   "metadata": {},
   "outputs": [],
   "source": []
  }
 ],
 "metadata": {
  "kernelspec": {
   "display_name": "Python 3",
   "language": "python",
   "name": "python3"
  },
  "language_info": {
   "codemirror_mode": {
    "name": "ipython",
    "version": 3
   },
   "file_extension": ".py",
   "mimetype": "text/x-python",
   "name": "python",
   "nbconvert_exporter": "python",
   "pygments_lexer": "ipython3",
   "version": "3.9.4"
  }
 },
 "nbformat": 4,
 "nbformat_minor": 4
}
